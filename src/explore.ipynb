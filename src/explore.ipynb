{
    "cells": [
        {
            "cell_type": "markdown",
            "metadata": {},
            "source": [
                "# Explore here"
            ]
        },
        {
            "cell_type": "code",
            "execution_count": 27,
            "metadata": {},
            "outputs": [
                {
                    "name": "stdout",
                    "output_type": "stream",
                    "text": [
                        "The Singles - Volume 01\n",
                        "The New Abnormal\n",
                        "Comedown Machine\n",
                        "Angles\n",
                        "First Impressions Of Earth\n",
                        "Room On Fire\n",
                        "Is This It\n"
                    ]
                }
            ],
            "source": [
                "import os\n",
                "import pandas as pd\n",
                "import seaborn as sns\n",
                "from dotenv import load_dotenv\n",
                "import spotipy\n",
                "from spotipy.oauth2 import SpotifyClientCredentials\n",
                "\n",
                "# Load the .env file variables\n",
                "load_dotenv()\n",
                "\n",
                "# Retrieve environment variables correctly\n",
                "client_id = os.getenv(\"CLIENT_ID\")\n",
                "client_secret = os.getenv(\"CLIENT_SECRET\")\n",
                "\n",
                "\n",
                "spotify = spotipy.Spotify(\n",
                "    client_credentials_manager=SpotifyClientCredentials(client_id=client_id, client_secret=client_secret)\n",
                ")\n",
                "\n",
                "strokes_uri = 'spotify:artist:0epOFNiUfyON9EYx7Tpr6V'\n",
                "\n",
                "results = spotify.artist_albums(strokes_uri, album_type='album')\n",
                "albums = results['items']\n",
                "\n",
                "while results['next']:\n",
                "    results = spotify.next(results)\n",
                "    albums.extend(results['items'])\n",
                "\n",
                "\n",
                "for album in albums:\n",
                "    print(album['name'])"
            ]
        },
        {
            "cell_type": "code",
            "execution_count": 39,
            "metadata": {},
            "outputs": [
                {
                    "name": "stdout",
                    "output_type": "stream",
                    "text": [
                        "No.  Track Name                               Popularity Duration (min:sec)\n",
                        "======================================================================\n",
                        "                    Track Name  Popularity (out of 100) Duration (min:sec)\n",
                        "0       The Adults Are Talking                       77               5:09\n",
                        "1                     Reptilia                       77               3:39\n",
                        "2                      Someday                       69               3:03\n",
                        "3                    Last Nite                       65               3:13\n",
                        "4           You Only Live Once                       69               3:09\n",
                        "5  Call It Fate, Call It Karma                       68               3:24\n",
                        "6                     Selfless                       67               3:42\n",
                        "7              Ode To The Mets                       66               5:51\n",
                        "8              Hard To Explain                       56               3:44\n",
                        "9      Under Cover of Darkness                       63               3:55\n"
                    ]
                }
            ],
            "source": [
                "#Now I want to get the top 10 songs from The Strokes\n",
                "\n",
                "strokes_uri = 'spotify:artist:0epOFNiUfyON9EYx7Tpr6V'\n",
                "\n",
                "top_tracks = spotify.artist_top_tracks(strokes_uri)\n",
                "tracks = results['items']\n",
                "\n",
                "print(f\"{'No.':<4} {'Track Name':<40} {'Popularity':<10} {'Duration (min:sec)'}\")\n",
                "print(\"=\" * 70)\n",
                "\n",
                "track_data = []\n",
                "for track in top_tracks['tracks']:\n",
                "    track_data.append({\n",
                "        'Track Name': track['name'],\n",
                "        'Popularity (out of 100)': track['popularity'],\n",
                "        'Duration (min:sec)': f\"{track['duration_ms'] // 60000}:{(track['duration_ms'] % 60000) // 1000:02d}\"\n",
                "    })\n",
                "\n",
                "\n",
                "df = pd.DataFrame(track_data)\n",
                "print(df)\n",
                "\n"
            ]
        },
        {
            "cell_type": "markdown",
            "metadata": {},
            "source": [
                "\n",
                "(instructions)\n",
                "Since the result obtained in these steps is likely to be in table format, convert it to a \n",
                "DataFrame by importing the data in its dictionary format. Next, sort the songs by increasing popularity and display the resulting top 3."
            ]
        },
        {
            "cell_type": "code",
            "execution_count": 43,
            "metadata": {},
            "outputs": [
                {
                    "name": "stdout",
                    "output_type": "stream",
                    "text": [
                        "               Track Name  Popularity (out of 100) Duration (min:sec)\n",
                        "0  The Adults Are Talking                       77               5:09\n",
                        "1                Reptilia                       77               3:39\n",
                        "2                 Someday                       69               3:03\n"
                    ]
                }
            ],
            "source": [
                "df_sorted =df.sort_values(by = 'Popularity (out of 100)', ascending=False)\n",
                "\n",
                "print(df_sorted[:3])\n",
                "\n"
            ]
        },
        {
            "cell_type": "code",
            "execution_count": 44,
            "metadata": {},
            "outputs": [
                {
                    "name": "stdout",
                    "output_type": "stream",
                    "text": [
                        "                    Track Name  Popularity (out of 100) Duration (min:sec)\n",
                        "0       The Adults Are Talking                       77               5:09\n",
                        "1                     Reptilia                       77               3:39\n",
                        "2                      Someday                       69               3:03\n",
                        "3                    Last Nite                       65               3:13\n",
                        "4           You Only Live Once                       69               3:09\n",
                        "5  Call It Fate, Call It Karma                       68               3:24\n",
                        "6                     Selfless                       67               3:42\n",
                        "7              Ode To The Mets                       66               5:51\n",
                        "8              Hard To Explain                       56               3:44\n",
                        "9      Under Cover of Darkness                       63               3:55\n"
                    ]
                }
            ],
            "source": [
                "print(df)"
            ]
        },
        {
            "cell_type": "code",
            "execution_count": 47,
            "metadata": {},
            "outputs": [
                {
                    "name": "stdout",
                    "output_type": "stream",
                    "text": [
                        "(10, 3)\n"
                    ]
                }
            ],
            "source": [
                "print(df.shape)"
            ]
        },
        {
            "cell_type": "code",
            "execution_count": null,
            "metadata": {},
            "outputs": [],
            "source": []
        }
    ],
    "metadata": {
        "kernelspec": {
            "display_name": "Python 3",
            "language": "python",
            "name": "python3"
        },
        "language_info": {
            "codemirror_mode": {
                "name": "ipython",
                "version": 3
            },
            "file_extension": ".py",
            "mimetype": "text/x-python",
            "name": "python",
            "nbconvert_exporter": "python",
            "pygments_lexer": "ipython3",
            "version": "3.11.4"
        },
        "orig_nbformat": 4
    },
    "nbformat": 4,
    "nbformat_minor": 2
}
